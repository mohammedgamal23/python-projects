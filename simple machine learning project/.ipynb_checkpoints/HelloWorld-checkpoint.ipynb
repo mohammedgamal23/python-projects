{
 "cells": [
  {
   "cell_type": "code",
   "execution_count": 236,
   "metadata": {},
   "outputs": [
    {
     "data": {
      "text/plain": [
       "1.0"
      ]
     },
     "execution_count": 236,
     "metadata": {},
     "output_type": "execute_result"
    }
   ],
   "source": [
    "#importing the data\n",
    "#Cleaning or preparing the data (removing dublicates, null values).\n",
    "#split this dataset into two separate datasets, one with the first\n",
    "# columns and the other with the third column\n",
    "\n",
    "#to read the csv file which has the dataset\n",
    "import pandas as pd\n",
    "\n",
    "#the machine learning algorithm\n",
    "from sklearn.tree import DecisionTreeClassifier\n",
    "\n",
    "#splits the data to training and testing data\n",
    "from sklearn.model_selection import train_test_split\n",
    "\n",
    "#to calculate the accuracy\n",
    "from sklearn.metrics import accuracy_score\n",
    "\n",
    "#read the dataset and initialize it\n",
    "music_data = pd.read_csv('made-up-data-set.csv')\n",
    "\n",
    "#removing the genre column\n",
    "X= music_data.drop(columns=['genre'])\n",
    "\n",
    "#making genre as a separated datasets or predictions or answers\n",
    "y= music_data['genre']\n",
    "\n",
    "#returns a tuple which we unpack it\n",
    "Xtrain, Xtest, ytrain, ytest= train_test_split(X,y,test_size=0.2)\n",
    "\n",
    "\n",
    "model = DecisionTreeClassifier()\n",
    "\n",
    "#parameters are X = age, gender - y = genre\n",
    "#.fit method used for training\n",
    "model.fit(Xtrain, ytrain)\n",
    "\n",
    "#.predict method used for predictions\n",
    "predictions = model.predict(Xtest)\n",
    "\n",
    "#in order to calculate the accuracy we have to compare {predictions}\n",
    "#with {ytest}\n",
    "score = accuracy_score(ytest, predictions)\n",
    "score \n",
    "\n",
    "# to calculate the accuracy split the datasets into two separates\n",
    "#one dataset for training(70 -> 80%), the other is for testing(30%)"
   ]
  },
  {
   "cell_type": "code",
   "execution_count": 238,
   "metadata": {},
   "outputs": [
    {
     "data": {
      "text/plain": [
       "array(['rap'], dtype=object)"
      ]
     },
     "execution_count": 238,
     "metadata": {},
     "output_type": "execute_result"
    }
   ],
   "source": [
    "#to read the csv file which has the dataset\n",
    "import pandas as pd\n",
    "\n",
    "#the machine learning algorithm\n",
    "from sklearn.tree import DecisionTreeClassifier\n",
    "\n",
    "#saving and loading models\n",
    "from sklearn.externals import joblib\n",
    "\n",
    "#read the dataset and initialize it\n",
    "music_data = pd.read_csv('made-up-data-set.csv')\n",
    "\n",
    "# #removing the genre column\n",
    "X= music_data.drop(columns=['genre'])\n",
    "\n",
    "# #making genre as a separated datasets or predictions or answers\n",
    "y= music_data['genre']\n",
    "\n",
    "model = DecisionTreeClassifier()\n",
    "\n",
    "# #parameters are X = age, gender - y = genre\n",
    "# #.fit method used for training\n",
    "model.fit(Xtrain, ytrain)\n",
    "\n",
    "#store it in a separated file called music-recommender\n",
    "joblib.dump(model, 'music-recommender.joblib')\n",
    "\n",
    "#loads the model from the file and returns it\n",
    "model = joblib.load('music-recommender.joblib')\n",
    "\n",
    "#.predict method used for predictions\n",
    "predictions = model.predict([[21,1]])\n",
    "\n",
    "predictions"
   ]
  },
  {
   "cell_type": "code",
   "execution_count": 235,
   "metadata": {},
   "outputs": [],
   "source": [
    "\n",
    "#to read the csv file which has the dataset\n",
    "import pandas as pd\n",
    "\n",
    "#the machine learning algorithm\n",
    "from sklearn.tree import DecisionTreeClassifier\n",
    "\n",
    "#to visualize a desicion tree\n",
    "from sklearn import tree\n",
    "\n",
    "#read the dataset and initialize it\n",
    "music_data = pd.read_csv('made-up-data-set.csv')\n",
    "\n",
    "#removing the genre column\n",
    "X= music_data.drop(columns=['genre'])\n",
    "\n",
    "#making genre as a separated datasets or predictions or answers\n",
    "y= music_data['genre']\n",
    "\n",
    "model = DecisionTreeClassifier()\n",
    "\n",
    "#parameters are X = age, gender - y = genre\n",
    "#.fit method used for training\n",
    "model.fit(Xtrain, ytrain)\n",
    "    \n",
    "tree.export_graphviz(model, out_file='music-recommender.dot',\n",
    "                     feature_names=['age', 'gender'],\n",
    "                     class_names=sorted(y.unique()),\n",
    "                     label='all', rounded=True, filled=True)"
   ]
  },
  {
   "cell_type": "code",
   "execution_count": null,
   "metadata": {},
   "outputs": [],
   "source": []
  }
 ],
 "metadata": {
  "kernelspec": {
   "display_name": "Python 3",
   "language": "python",
   "name": "python3"
  },
  "language_info": {
   "codemirror_mode": {
    "name": "ipython",
    "version": 3
   },
   "file_extension": ".py",
   "mimetype": "text/x-python",
   "name": "python",
   "nbconvert_exporter": "python",
   "pygments_lexer": "ipython3",
   "version": "3.7.3"
  }
 },
 "nbformat": 4,
 "nbformat_minor": 2
}
